{
 "cells": [
  {
   "cell_type": "code",
   "execution_count": 1,
   "id": "72a7d9c7",
   "metadata": {},
   "outputs": [
    {
     "name": "stdout",
     "output_type": "stream",
     "text": [
      "['12', '35', '9', '56', '24']\n",
      "[24, '35', '9', '56', 12]\n"
     ]
    }
   ],
   "source": [
    "#an empty list. Append Input as List element.change the lists elements that are given as output.\n",
    "x=[]\n",
    "x.append('12')\n",
    "x.append('35')\n",
    "x.append('9')\n",
    "x.append('56')\n",
    "x.append('24')\n",
    "print(x)\n",
    "x[0]=24\n",
    "x[4]=12\n",
    "print(x)"
   ]
  },
  {
   "cell_type": "code",
   "execution_count": 2,
   "id": "1f321a8c",
   "metadata": {},
   "outputs": [
    {
     "name": "stdout",
     "output_type": "stream",
     "text": [
      "5\n"
     ]
    }
   ],
   "source": [
    "#length of list\n",
    "list=[1,4,5,7,8]\n",
    "length=len(list)\n",
    "print(length)"
   ]
  },
  {
   "cell_type": "code",
   "execution_count": 3,
   "id": "58d712df",
   "metadata": {},
   "outputs": [
    {
     "name": "stdout",
     "output_type": "stream",
     "text": [
      "['Geeks', 'Are', 'For', 'Geeks']\n",
      "length of list is 4\n"
     ]
    }
   ],
   "source": [
    "#Append and list\n",
    "ss=[]\n",
    "ss.append(\"Geeks\")\n",
    "ss.append(\"Are\")\n",
    "ss.append(\"For\")\n",
    "ss.append(\"Geeks\")\n",
    "print(ss)\n",
    "print(\"length of list is\", len(ss))"
   ]
  },
  {
   "cell_type": "code",
   "execution_count": 4,
   "id": "d811f1e5",
   "metadata": {},
   "outputs": [
    {
     "name": "stdout",
     "output_type": "stream",
     "text": [
      "[4]\n",
      "[-4]\n"
     ]
    }
   ],
   "source": [
    "#Maximum and min of these two numbers.\n",
    "a=[2]\n",
    "b=[4]\n",
    "print(max(a,b))\n",
    "a=[-1]\n",
    "b=[-4]\n",
    "print(min(a,b))"
   ]
  },
  {
   "cell_type": "code",
   "execution_count": null,
   "id": "8700e5a3",
   "metadata": {},
   "outputs": [],
   "source": []
  }
 ],
 "metadata": {
  "kernelspec": {
   "display_name": "Python 3",
   "language": "python",
   "name": "python3"
  },
  "language_info": {
   "codemirror_mode": {
    "name": "ipython",
    "version": 3
   },
   "file_extension": ".py",
   "mimetype": "text/x-python",
   "name": "python",
   "nbconvert_exporter": "python",
   "pygments_lexer": "ipython3",
   "version": "3.8.8"
  }
 },
 "nbformat": 4,
 "nbformat_minor": 5
}
