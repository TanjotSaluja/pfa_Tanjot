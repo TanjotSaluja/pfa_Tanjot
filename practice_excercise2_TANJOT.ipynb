{
 "cells": [
  {
   "cell_type": "code",
   "execution_count": 6,
   "id": "ff9674b8",
   "metadata": {},
   "outputs": [
    {
     "name": "stdout",
     "output_type": "stream",
     "text": [
      "num is smaller than 10\n",
      "This statement will always be executed\n"
     ]
    }
   ],
   "source": [
    "#Q6\n",
    "num=5\n",
    "if (num<10):\n",
    "    print(\"num is smaller than 10\")\n",
    "print(\"This statement will always be executed\")   "
   ]
  },
  {
   "cell_type": "code",
   "execution_count": 7,
   "id": "30874a4a",
   "metadata": {},
   "outputs": [
    {
     "name": "stdout",
     "output_type": "stream",
     "text": [
      "Enter passing marks45\n",
      "Enter your score46\n",
      "Congrats! You hav passed the exam\n"
     ]
    }
   ],
   "source": [
    "#Q7\n",
    "pass_score=int(input(\"Enter passing marks\"))\n",
    "my_score=int(input(\"Enter your score\"))\n",
    "if my_score>= pass_score:\n",
    "    print(\"Congrats! You hav passed the exam\")\n",
    "else:\n",
    "    print(\"You need to work hard\")"
   ]
  },
  {
   "cell_type": "code",
   "execution_count": 10,
   "id": "fd96c317",
   "metadata": {},
   "outputs": [
    {
     "name": "stdout",
     "output_type": "stream",
     "text": [
      "Number is positive\n",
      "Number is less than 10\n"
     ]
    }
   ],
   "source": [
    "#Q8\n",
    "num=5\n",
    "if(num>0):\n",
    "    print('Number is positive')\n",
    "else:\n",
    "    print(\"Number is negative\")\n",
    "if num<10:\n",
    "    print(\"Number is less than 10\")\n",
    "else:\n",
    "    print(\"Number is greater than 10\")"
   ]
  },
  {
   "cell_type": "code",
   "execution_count": 11,
   "id": "d582381a",
   "metadata": {},
   "outputs": [
    {
     "name": "stdout",
     "output_type": "stream",
     "text": [
      "any number?8\n",
      "no. is greater than 0\n"
     ]
    }
   ],
   "source": [
    "#Q9\n",
    "n=int(input(\"any number?\"))\n",
    "if n!=0:\n",
    "    if n>0:\n",
    "        print(\"no. is greater than 0\")"
   ]
  },
  {
   "cell_type": "code",
   "execution_count": 12,
   "id": "e6c3753d",
   "metadata": {},
   "outputs": [
    {
     "name": "stdout",
     "output_type": "stream",
     "text": [
      "Enter number10\n",
      "Enter number20\n",
      "Enter number30\n",
      "All conditions are true\n"
     ]
    }
   ],
   "source": [
    "#Q10\n",
    "num1=int(input(\"Enter number\"))\n",
    "num2=int(input(\"Enter number\"))\n",
    "num3=int(input(\"Enter number\"))\n",
    "if num1==10 and num2==20 and num3==30:\n",
    "    print(\"All conditions are true\")\n",
    "else:\n",
    "    print(\"The numbers are not 10,20,30\")"
   ]
  },
  {
   "cell_type": "code",
   "execution_count": 16,
   "id": "ace5b123",
   "metadata": {},
   "outputs": [
    {
     "name": "stdout",
     "output_type": "stream",
     "text": [
      "fruit name?apple\n",
      "it's a fruit\n"
     ]
    }
   ],
   "source": [
    "#Q11\n",
    "fruit=input(\"fruit name?\")\n",
    "if fruit==(\"apple\") or fruit==(\"mango\") or fruit==(\"grpes\"):\n",
    "    print(\"it's a fruit\")\n",
    "else:\n",
    "    print(\"not a fruit\")"
   ]
  },
  {
   "cell_type": "code",
   "execution_count": 23,
   "id": "921be3b2",
   "metadata": {},
   "outputs": [
    {
     "name": "stdout",
     "output_type": "stream",
     "text": [
      "Average is 3.0\n"
     ]
    }
   ],
   "source": [
    "#EXCERCISE 4\n",
    "#Q1\n",
    "count=0\n",
    "sum=0\n",
    "for thing in [1,2,3,4,5]:\n",
    "    count=count+1\n",
    "    sum= sum+ thing\n",
    "    average=sum/count\n",
    "print(\"Average is\",average)"
   ]
  },
  {
   "cell_type": "code",
   "execution_count": 21,
   "id": "5f49c516",
   "metadata": {},
   "outputs": [
    {
     "name": "stdout",
     "output_type": "stream",
     "text": [
      "Apple\n",
      "Banana\n",
      "Cherry\n",
      "Dragonfruit\n",
      "Grapes\n"
     ]
    }
   ],
   "source": [
    "for fruit in ['Apple','Banana','Cherry','Dragonfruit','Grapes']:\n",
    "    print(fruit)"
   ]
  },
  {
   "cell_type": "code",
   "execution_count": null,
   "id": "1046208e",
   "metadata": {},
   "outputs": [],
   "source": []
  }
 ],
 "metadata": {
  "kernelspec": {
   "display_name": "Python 3",
   "language": "python",
   "name": "python3"
  },
  "language_info": {
   "codemirror_mode": {
    "name": "ipython",
    "version": 3
   },
   "file_extension": ".py",
   "mimetype": "text/x-python",
   "name": "python",
   "nbconvert_exporter": "python",
   "pygments_lexer": "ipython3",
   "version": "3.8.8"
  }
 },
 "nbformat": 4,
 "nbformat_minor": 5
}
