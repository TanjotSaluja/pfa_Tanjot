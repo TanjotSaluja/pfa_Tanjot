{
 "cells": [
  {
   "cell_type": "code",
   "execution_count": 2,
   "id": "5a26b3ae",
   "metadata": {},
   "outputs": [
    {
     "name": "stdout",
     "output_type": "stream",
     "text": [
      "0.625\n",
      "17\n"
     ]
    }
   ],
   "source": [
    "#1\n",
    "#Example, do not modify\n",
    "print(5 / 8)\n",
    "#Print the sum of 7 and 10\n",
    "print(7+10)"
   ]
  },
  {
   "cell_type": "code",
   "execution_count": 3,
   "id": "0f86db31",
   "metadata": {},
   "outputs": [
    {
     "name": "stdout",
     "output_type": "stream",
     "text": [
      "0.625\n",
      "17\n"
     ]
    }
   ],
   "source": [
    "#2\n",
    "#Example, do not modify\n",
    "print(5 / 8)\n",
    "#Addition\n",
    "#Print the sum of 7 and 10\n",
    "print(7+10)"
   ]
  },
  {
   "cell_type": "code",
   "execution_count": 6,
   "id": "e62c2ceb",
   "metadata": {},
   "outputs": [
    {
     "name": "stdout",
     "output_type": "stream",
     "text": [
      "10\n",
      "0\n",
      "15\n",
      "5.0\n",
      "4\n",
      "16\n"
     ]
    }
   ],
   "source": [
    "#3\n",
    "#Addition\n",
    "print(5+5)\n",
    "#Subtraction\n",
    "print(5-5)\n",
    "#Multiplication\n",
    "print(3*5)\n",
    "#divive \n",
    "print(10/2)\n",
    "#Remainder\n",
    "print(18%7)\n",
    "#power\n",
    "print(4**2)"
   ]
  },
  {
   "cell_type": "code",
   "execution_count": 10,
   "id": "af1b02a2",
   "metadata": {},
   "outputs": [
    {
     "name": "stdout",
     "output_type": "stream",
     "text": [
      "1750.0000000000002\n",
      "6750.0\n"
     ]
    }
   ],
   "source": [
    "#4a\n",
    "#Information\n",
    "p=5000\n",
    "t=5\n",
    "r=0.07\n",
    "#money earned in investment\n",
    "SI=p*r*t\n",
    "print(SI)\n",
    "#Total value\n",
    "TV=p+SI\n",
    "print(TV)"
   ]
  },
  {
   "cell_type": "code",
   "execution_count": 12,
   "id": "825c9fad",
   "metadata": {},
   "outputs": [
    {
     "name": "stdout",
     "output_type": "stream",
     "text": [
      "7.0\n"
     ]
    }
   ],
   "source": [
    "#4b\n",
    "#Information\n",
    "p=8000\n",
    "r=0.087\n",
    "i=4872\n",
    "t=i/(p*r)\n",
    "print(t)"
   ]
  },
  {
   "cell_type": "code",
   "execution_count": 13,
   "id": "b3495553",
   "metadata": {},
   "outputs": [
    {
     "name": "stdout",
     "output_type": "stream",
     "text": [
      "0.064\n"
     ]
    }
   ],
   "source": [
    "#4c\n",
    "#Information\n",
    "p=3000\n",
    "t=4\n",
    "i=768\n",
    "r=i/(p*t)\n",
    "print(r)"
   ]
  },
  {
   "cell_type": "code",
   "execution_count": 15,
   "id": "957cb464",
   "metadata": {},
   "outputs": [
    {
     "name": "stdout",
     "output_type": "stream",
     "text": [
      "194.87171000000012\n"
     ]
    }
   ],
   "source": [
    "#5\n",
    "print(100*(1+(10/100))**7)"
   ]
  },
  {
   "cell_type": "code",
   "execution_count": 16,
   "id": "3e6d3b95",
   "metadata": {},
   "outputs": [
    {
     "name": "stdout",
     "output_type": "stream",
     "text": [
      "100\n"
     ]
    }
   ],
   "source": [
    "#Excercise 2\n",
    "#1\n",
    "savings=100\n",
    "print(savings)"
   ]
  },
  {
   "cell_type": "code",
   "execution_count": 18,
   "id": "2920f953",
   "metadata": {},
   "outputs": [
    {
     "name": "stdout",
     "output_type": "stream",
     "text": [
      "194.87171000000012\n"
     ]
    }
   ],
   "source": [
    "#2\n",
    "#create a variable savings\n",
    "savings=100\n",
    "#create a variable growth_multiplier\n",
    "growth_multiplier=1.1\n",
    "#time\n",
    "time=7\n",
    "#calculate result\n",
    "result=savings*growth_multiplier**time\n",
    "#print out result\n",
    "print(result)"
   ]
  },
  {
   "cell_type": "code",
   "execution_count": 30,
   "id": "c90c1614",
   "metadata": {},
   "outputs": [],
   "source": [
    "#3\n",
    "#Create a variable desc\n",
    "desc=('Compound Interest')\n",
    "#create a variable profitable\n",
    "profitable=True"
   ]
  },
  {
   "cell_type": "code",
   "execution_count": 32,
   "id": "40b05729",
   "metadata": {},
   "outputs": [
    {
     "name": "stdout",
     "output_type": "stream",
     "text": [
      "<class 'float'>\n",
      "<class 'str'>\n",
      "<class 'bool'>\n",
      "<class 'int'>\n",
      "<class 'float'>\n",
      "<class 'bool'>\n",
      "<class 'str'>\n"
     ]
    }
   ],
   "source": [
    "#4\n",
    "A=10.7\n",
    "print(type(A))\n",
    "B=\"This is a python course\"\n",
    "print(type(B))\n",
    "C=False\n",
    "print(type(C))\n",
    "savings=100\n",
    "print(type(savings))\n",
    "growth_multiplier=1.1\n",
    "print(type(growth_multiplier))\n",
    "profitable=True\n",
    "print(type(profitable))\n",
    "desc=('Compound Interest')\n",
    "print(type(desc))"
   ]
  },
  {
   "cell_type": "code",
   "execution_count": 34,
   "id": "661bb07f",
   "metadata": {},
   "outputs": [
    {
     "name": "stdout",
     "output_type": "stream",
     "text": [
      "110.00000000000001\n",
      "<class 'float'>\n",
      "Compound InterestCompound Interest\n"
     ]
    }
   ],
   "source": [
    "#5\n",
    "savings=100\n",
    "growth_multiplier=1.1\n",
    "desc=('Compound Interest')\n",
    "#Assign product of growth_multiplier and savings to year1\n",
    "year1=savings*growth_multiplier\n",
    "#print the type of year1\n",
    "print(year1)\n",
    "print(type(year1))\n",
    "#assign sum of desc and desc to doubledesc\n",
    "doubledesc=(desc+desc)\n",
    "#printout doubledesc\n",
    "print(doubledesc)"
   ]
  },
  {
   "cell_type": "code",
   "execution_count": 39,
   "id": "8bdf6193",
   "metadata": {},
   "outputs": [
    {
     "name": "stdout",
     "output_type": "stream",
     "text": [
      "I started with $100 and now have $194.87171000000012. Awesome!\n"
     ]
    }
   ],
   "source": [
    "#6\n",
    "#Definition of savings and result\n",
    "savings=100\n",
    "result=100*1.10**7\n",
    "#fix the printout using str()\n",
    "savings1=str(savings)\n",
    "result1=str(result)\n",
    "print(\"I started with $\" +savings1 + \" and now have $\" + result1 + \". Awesome!\")\n"
   ]
  },
  {
   "cell_type": "code",
   "execution_count": 41,
   "id": "59a90b3c",
   "metadata": {},
   "outputs": [
    {
     "name": "stdout",
     "output_type": "stream",
     "text": [
      "6.2831852\n"
     ]
    }
   ],
   "source": [
    "#7\n",
    "#Definition of pi_string\n",
    "pi_string=\"3.1415926\"\n",
    "#Convert pi_string into float:pi_float\n",
    "pi_float=float(pi_string)\n",
    "#Multiply by 2 to save the value in double_pi\n",
    "double_pi=2*pi_float\n",
    "print(double_pi)"
   ]
  },
  {
   "cell_type": "code",
   "execution_count": 49,
   "id": "b782bdf4",
   "metadata": {},
   "outputs": [
    {
     "ename": "TypeError",
     "evalue": "can only concatenate str (not \"int\") to str",
     "output_type": "error",
     "traceback": [
      "\u001b[1;31m---------------------------------------------------------------------------\u001b[0m",
      "\u001b[1;31mTypeError\u001b[0m                                 Traceback (most recent call last)",
      "\u001b[1;32m<ipython-input-49-bf7b9e9eb3e5>\u001b[0m in \u001b[0;36m<module>\u001b[1;34m\u001b[0m\n\u001b[0;32m      1\u001b[0m \u001b[1;31m#8\u001b[0m\u001b[1;33m\u001b[0m\u001b[1;33m\u001b[0m\u001b[1;33m\u001b[0m\u001b[0m\n\u001b[1;32m----> 2\u001b[1;33m \u001b[0mprint\u001b[0m\u001b[1;33m(\u001b[0m\u001b[1;34m\"the correct answer to this multiple choice excercise is answer number\"\u001b[0m \u001b[1;33m+\u001b[0m \u001b[1;36m2\u001b[0m\u001b[1;33m)\u001b[0m\u001b[1;33m\u001b[0m\u001b[1;33m\u001b[0m\u001b[0m\n\u001b[0m",
      "\u001b[1;31mTypeError\u001b[0m: can only concatenate str (not \"int\") to str"
     ]
    }
   ],
   "source": [
    "#8\n",
    "#third statement is wrong\n",
    "print(\"the correct answer to this multiple choice excercise is answer number\" + 2)"
   ]
  },
  {
   "cell_type": "code",
   "execution_count": 7,
   "id": "85290f3d",
   "metadata": {},
   "outputs": [
    {
     "name": "stdout",
     "output_type": "stream",
     "text": [
      "Enter number 7\n",
      "7  is odd\n"
     ]
    }
   ],
   "source": [
    "#Excercise 3\n",
    "#1\n",
    "#Checking whether number is even or odd\n",
    "n=int(input(\"Enter number \"))\n",
    "if n%2==0:\n",
    "    print(n, \" is even\")\n",
    "else :\n",
    "    print(n, \" is odd\")"
   ]
  },
  {
   "cell_type": "code",
   "execution_count": 8,
   "id": "117045b8",
   "metadata": {},
   "outputs": [
    {
     "name": "stdout",
     "output_type": "stream",
     "text": [
      "Enter C Temp30\n",
      "86.0\n"
     ]
    }
   ],
   "source": [
    "#2\n",
    "inp=input('Enter C Temp')\n",
    "c1=float(inp)\n",
    "f=(c1*1.8)+32\n",
    "print(f)"
   ]
  },
  {
   "cell_type": "code",
   "execution_count": 2,
   "id": "4580b03b",
   "metadata": {},
   "outputs": [
    {
     "name": "stdout",
     "output_type": "stream",
     "text": [
      "Area of triangle is:  34.662434637515005\n"
     ]
    }
   ],
   "source": [
    "#Q3 - area of a triangle\n",
    "import math\n",
    "a=4\n",
    "b=3\n",
    "c=6\n",
    "s=(a+b+c)/2\n",
    "Ar= s*(math.sqrt(s*(s-a)*(s-b)*(s-c)))\n",
    "print(\"Area of triangle is: \", Ar)"
   ]
  },
  {
   "cell_type": "code",
   "execution_count": 3,
   "id": "fa6db1de",
   "metadata": {},
   "outputs": [
    {
     "name": "stdout",
     "output_type": "stream",
     "text": [
      "enter radius os a circle: 5\n",
      "circumferrence of a circle will be  31.41592653589793\n"
     ]
    }
   ],
   "source": [
    "#Q4\n",
    "import math\n",
    "r=float(input(\"enter radius os a circle: \"))\n",
    "print(\"circumferrence of a circle will be \", 2*r*(math.pi))"
   ]
  },
  {
   "cell_type": "code",
   "execution_count": 4,
   "id": "27119c74",
   "metadata": {},
   "outputs": [
    {
     "name": "stdout",
     "output_type": "stream",
     "text": [
      "Enter number to be checked: 56\n",
      "56  is not a multiple of 5\n"
     ]
    }
   ],
   "source": [
    "#Q5\n",
    "n=int(input(\"Enter number to be checked: \"))\n",
    "if n%5==0:\n",
    "    print(n, \" is a multiple of 5\")\n",
    "else :\n",
    "    print(n, \" is not a multiple of 5\")"
   ]
  },
  {
   "cell_type": "code",
   "execution_count": null,
   "id": "f727a3ca",
   "metadata": {},
   "outputs": [],
   "source": []
  }
 ],
 "metadata": {
  "kernelspec": {
   "display_name": "Python 3",
   "language": "python",
   "name": "python3"
  },
  "language_info": {
   "codemirror_mode": {
    "name": "ipython",
    "version": 3
   },
   "file_extension": ".py",
   "mimetype": "text/x-python",
   "name": "python",
   "nbconvert_exporter": "python",
   "pygments_lexer": "ipython3",
   "version": "3.8.8"
  }
 },
 "nbformat": 4,
 "nbformat_minor": 5
}
